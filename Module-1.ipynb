{
 "cells": [
  {
   "cell_type": "markdown",
   "metadata": {},
   "source": [
    "Import Tensor flow and examine what version is currently loaded\n",
    "\n",
    "Then we list all devices available to be used by TensorFlow, both CPU and GPU.\n",
    "\n",
    "The look specifically at what GPU resources are available and print what device is currently being used."
   ]
  },
  {
   "cell_type": "code",
   "execution_count": 8,
   "metadata": {},
   "outputs": [
    {
     "name": "stdout",
     "output_type": "stream",
     "text": [
      "TensorFlow Version: 2.13.1\n",
      "All available devices: [PhysicalDevice(name='/physical_device:CPU:0', device_type='CPU'), PhysicalDevice(name='/physical_device:GPU:0', device_type='GPU')]\n",
      "Available GPUs: [PhysicalDevice(name='/physical_device:GPU:0', device_type='GPU')]\n",
      "TensorFlow is currently using a GPU.\n"
     ]
    }
   ],
   "source": [
    "import tensorflow as tf\n",
    "\n",
    "# Print TensorFlow version (optional, for confirmation)\n",
    "print(\"TensorFlow Version:\", tf.__version__)\n",
    "\n",
    "# List all available devices\n",
    "print(\"All available devices:\", tf.config.list_physical_devices())\n",
    "\n",
    "# Specifically list GPU devices\n",
    "gpus = tf.config.list_physical_devices('GPU')\n",
    "print(\"Available GPUs:\", gpus)\n",
    "\n",
    "# Check if TensorFlow is currently using a GPU\n",
    "if gpus:\n",
    "    print(\"TensorFlow is currently using a GPU.\")\n",
    "else:\n",
    "    print(\"TensorFlow is currently using a CPU.\")\n"
   ]
  },
  {
   "cell_type": "code",
   "execution_count": 36,
   "metadata": {},
   "outputs": [
    {
     "data": {
      "text/plain": [
       "((60000, 28, 28), (60000,), (10000, 28, 28), (10000,))"
      ]
     },
     "execution_count": 36,
     "metadata": {},
     "output_type": "execute_result"
    }
   ],
   "source": [
    "# Dataset Preparation: Loading the MNIST dataset\n",
    "import numpy as np\n",
    "import pandas as pd\n",
    "\n",
    "\n",
    "# Load the MNIST dataset\n",
    "mnist = tf.keras.datasets.mnist\n",
    "(x_train, y_train), (x_test, y_test) = mnist.load_data()\n",
    "\n",
    "# Preprocess the data: Normalize the pixel values to 0.0 to 1.0 for improved speed and stability\n",
    "x_train, x_test = x_train / 255.0, x_test / 255.0\n",
    "\n",
    "# Review the shape of the dataset to ensure it is what is expected\n",
    "x_train.shape, y_train.shape, x_test.shape, y_test.shape\n"
   ]
  },
  {
   "cell_type": "markdown",
   "metadata": {},
   "source": [
    "**Input Layer** - *Flatten* is the input layer, this doesn't perform any computation, but reshapes the data into a 28x28 array of pixels to be processed by followling layers\n",
    "\n",
    "**Hidden Layer 1** - *Dense* has 128 neurons, and the relu (Rectivied Linear Unit) activation which is fully connected, all neurons receive input from all input features\n",
    "\n",
    "**Hidden Layer 2** - *Dropout*, this is used to prevent overfitting, this sets 20% of the input units to 0 on each update.\n",
    "\n",
    "**Output Layer** - *Dense*   This has 10 neurons to correlate to the 10 classes of the MNIST dataset.  The softmax is used for calculating the probability across the classes."
   ]
  },
  {
   "cell_type": "code",
   "execution_count": 37,
   "metadata": {},
   "outputs": [
    {
     "name": "stdout",
     "output_type": "stream",
     "text": [
      "Epoch 1/5\n",
      "1875/1875 [==============================] - 4s 2ms/step - loss: 0.2939 - accuracy: 0.9148\n",
      "Epoch 2/5\n",
      "1875/1875 [==============================] - 4s 2ms/step - loss: 0.1446 - accuracy: 0.9566\n",
      "Epoch 3/5\n",
      "1875/1875 [==============================] - 4s 2ms/step - loss: 0.1068 - accuracy: 0.9677\n",
      "Epoch 4/5\n",
      "1875/1875 [==============================] - 4s 2ms/step - loss: 0.0906 - accuracy: 0.9719\n",
      "Epoch 5/5\n",
      "1875/1875 [==============================] - 4s 2ms/step - loss: 0.0742 - accuracy: 0.9763\n",
      "313/313 - 1s - loss: 0.0719 - accuracy: 0.9773 - 614ms/epoch - 2ms/step\n",
      "Test accuracy: 0.9772999882698059\n"
     ]
    }
   ],
   "source": [
    "# Model Building\n",
    "model = tf.keras.models.Sequential([\n",
    "    tf.keras.layers.Flatten(input_shape=(28, 28)),  # input layer\n",
    "    tf.keras.layers.Dense(128, activation='relu'),  # hidden layer 1\n",
    "    tf.keras.layers.Dropout(0.2),                   # hidden layer 2\n",
    "    tf.keras.layers.Dense(10, activation='softmax') # output layer \n",
    "])\n",
    "\n",
    "# Compile the model\n",
    "model.compile(optimizer='adam',\n",
    "              loss='sparse_categorical_crossentropy',\n",
    "              metrics=['accuracy'])\n",
    "\n",
    "# Training the Model\n",
    "model.fit(x_train, y_train, epochs=5)\n",
    "\n",
    "# Evaluate the model\n",
    "loss, accuracy = model.evaluate(x_test, y_test, verbose=2)\n",
    "print(f\"Test accuracy: {accuracy}\")\n",
    "\n",
    "# Results Analysis\n",
    "# [Include a brief summary based on the output accuracy and loss]\n"
   ]
  },
  {
   "cell_type": "code",
   "execution_count": 11,
   "metadata": {},
   "outputs": [
    {
     "name": "stderr",
     "output_type": "stream",
     "text": [
      "/usr/local/lib/python3.8/dist-packages/keras/src/engine/training.py:3000: UserWarning: You are saving your model as an HDF5 file via `model.save()`. This file format is considered legacy. We recommend using instead the native Keras format, e.g. `model.save('my_model.keras')`.\n",
      "  saving_api.save_model(\n"
     ]
    }
   ],
   "source": [
    "#saving model\n",
    "model.save('mnist_model.h5')"
   ]
  },
  {
   "cell_type": "code",
   "execution_count": 42,
   "metadata": {},
   "outputs": [
    {
     "name": "stdout",
     "output_type": "stream",
     "text": [
      "1/1 [==============================] - 0s 31ms/step\n",
      "Predicted Class: 5, Confidence: 0.63\n"
     ]
    }
   ],
   "source": [
    "from PIL import Image\n",
    "from PIL import ImageOps\n",
    "import numpy as np\n",
    "import tensorflow as tf\n",
    "\n",
    "# Load the model\n",
    "model = tf.keras.models.load_model('mnist_model.h5')\n",
    "\n",
    "# Load test image\n",
    "image_path = 'test_image.jpg'\n",
    "img = Image.open(image_path)\n",
    "\n",
    "# Convert to grayscale and resize to match MNIST training data\n",
    "img = img.convert('L')\n",
    "img = img.resize((28, 28))\n",
    "\n",
    "# Invert image colors if necessary (if your image has white digits on black background)\n",
    "img = ImageOps.invert(img)\n",
    "\n",
    "# Convert image to a numpy array\n",
    "img_array = np.array(img)\n",
    "\n",
    "# Normalize the image to match expected MNIST input\n",
    "img_array = img_array / 255.0\n",
    "\n",
    "# Reshape the image for the model for batch processing  [batch, height, width]\n",
    "img_array = img_array.reshape(1, 28, 28)\n",
    "\n",
    "# Make a prediction\n",
    "prediction = model.predict(img_array)\n",
    "\n",
    "# Get the class with the highest probability\n",
    "predicted_class = np.argmax(prediction, axis=1)\n",
    "\n",
    "# Get the confidence of the prediction\n",
    "confidence_levels  = prediction[0]\n",
    "\n",
    "# Print the results\n",
    "predicted_class = np.argmax(confidence_levels)\n",
    "confidence = confidence_levels[predicted_class]\n",
    "\n",
    "print(f\"Predicted Class: {predicted_class}, Confidence: {confidence:.2f}\")\n"
   ]
  },
  {
   "cell_type": "code",
   "execution_count": 35,
   "metadata": {},
   "outputs": [
    {
     "data": {
      "image/jpeg": "[encoded data removed]",
      "image/png": "[encoded data removed]",
      "text/plain": [
       "<PIL.Image.Image image mode=L size=640x640>"
      ]
     },
     "execution_count": 35,
     "metadata": {},
     "output_type": "execute_result"
    }
   ],
   "source": [
    "# Display the img variable to review how the model sees the image\n",
    "img.resize((640, 640))"
   ]
  },
  {
   "cell_type": "code",
   "execution_count": null,
   "metadata": {},
   "outputs": [],
   "source": []
  }
 ],
 "metadata": {
  "kernelspec": {
   "display_name": "Python 3",
   "language": "python",
   "name": "python3"
  },
  "language_info": {
   "codemirror_mode": {
    "name": "ipython",
    "version": 3
   },
   "file_extension": ".py",
   "mimetype": "text/x-python",
   "name": "python",
   "nbconvert_exporter": "python",
   "pygments_lexer": "ipython3",
   "version": "3.8.10"
  }
 },
 "nbformat": 4,
 "nbformat_minor": 2
}
